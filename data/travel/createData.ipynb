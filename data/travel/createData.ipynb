{
 "cells": [
  {
   "cell_type": "code",
   "execution_count": 1,
   "metadata": {},
   "outputs": [],
   "source": [
    "import os\n",
    "import sys\n",
    "\n",
    "# Importing utils file in a notebook requires to add the directory in the \n",
    "# sys path before importing it.\n",
    "utilsModulePath = os.path.abspath(\"../utils\")\n",
    "if (utilsModulePath not in sys.path):\n",
    "    sys.path.append(utilsModulePath)\n",
    "# Now we can import utils\n",
    "import utils"
   ]
  },
  {
   "cell_type": "markdown",
   "metadata": {},
   "source": [
    "# Travel Agent Case Base\n",
    "\n",
    "A toy dataset about travels  available at <https://www.cs.auckland.ac.nz/research/groups/ai-cbr/cases.html>"
   ]
  },
  {
   "cell_type": "code",
   "execution_count": 2,
   "metadata": {},
   "outputs": [],
   "source": [
    "import json\n",
    "# Opening JSON file\n",
    "with open('./travel.json') as f:\n",
    "    dataFile = json.load(f)\n",
    "data = dataFile[\"data\"]"
   ]
  },
  {
   "cell_type": "code",
   "execution_count": 3,
   "metadata": {},
   "outputs": [],
   "source": [
    "import cbrkit\n",
    "casebase=dict(enumerate(data))"
   ]
  },
  {
   "cell_type": "markdown",
   "metadata": {},
   "source": [
    "## All attributes"
   ]
  },
  {
   "cell_type": "code",
   "execution_count": 4,
   "metadata": {},
   "outputs": [],
   "source": [
    "months = [\"January\", \"February\", \"March\", \"April\", \"May\", \"June\", \"July\", \"August\", \"September\", \"October\", \"November\", \"December\"]\n",
    "\n",
    "simFunction = cbrkit.sim.attribute_value(\n",
    "    attributes= {\n",
    "        \"HolidayType\": cbrkit.sim.generic.equality(),\n",
    "        \"NumberOfPersons\": cbrkit.sim.numbers.linear_interval(1,12),\n",
    "        \"Region\": cbrkit.sim.generic.equality(),\n",
    "        \"Duration\": cbrkit.sim.numbers.linear_interval(3,21),\n",
    "        \"Month\": utils.circular_range_similarity(months)\n",
    "    },\n",
    "    aggregator=cbrkit.sim.aggregator(pooling=\"mean\")\n",
    ")"
   ]
  },
  {
   "cell_type": "code",
   "execution_count": 5,
   "metadata": {},
   "outputs": [],
   "source": [
    "similarityData = utils.compute_similarity_data(casebase, simFunction, idAttribute=\"caseId\")"
   ]
  },
  {
   "cell_type": "code",
   "execution_count": 6,
   "metadata": {},
   "outputs": [],
   "source": [
    "# Wrap with similarity description\n",
    "similarityDataComplete = {\n",
    "    \"similarityDescription\": {\n",
    "    \"globalSim\": {\n",
    "      \"simFunction\": \"Weighted average\"\n",
    "    },\n",
    "    \"localSim\": {\n",
    "      \"HolidayType\": {\n",
    "        \"simFunction\": \"equals\",\n",
    "        \"weight\": 1/5,\n",
    "        \"description\": \"String equality\"\n",
    "      },\n",
    "      \"NumberOfPersons\": {\n",
    "        \"simFunction\": \"RangeSimilarity\",\n",
    "        \"weight\": 1/5,\n",
    "        \"description\": \"Similarity normalized in range (1,12)\"\n",
    "      },\n",
    "      \"Region\": {\n",
    "        \"simFunction\": \"equals\",\n",
    "        \"weight\": 1/5,\n",
    "        \"description\": \"String equality\"\n",
    "      },\n",
    "      \"Duration\": {\n",
    "        \"simFunction\": \"RangeSimilarity\",\n",
    "        \"weight\": 1/5,\n",
    "        \"description\": \"Similarity normalized in range (3,21)\"\n",
    "      },\n",
    "      \"Month\": {\n",
    "        \"simFunction\": \"CircularRangeSimilarity\",\n",
    "        \"weight\": 1/5,\n",
    "        \"description\": \"Similarity between months in range (January...December)\"\n",
    "      },\n",
    "    }\n",
    "  }\n",
    "}\n",
    "similarityDataComplete[\"similarities\"] = similarityData"
   ]
  },
  {
   "cell_type": "code",
   "execution_count": 7,
   "metadata": {},
   "outputs": [],
   "source": [
    "utils.exportToJson(similarityDataComplete, \"allAttributes.json\")"
   ]
  },
  {
   "cell_type": "markdown",
   "metadata": {},
   "source": [
    "## Months\n",
    "\n",
    "The following pair of similarity data files are created to test how SimViz can be employed to debug a similarity function. \n",
    "\n",
    "First, we create a similarity data file with a function that uses the Month attribute and the similarity function does not take into account the cyclical nature of months. For example, with this function, January and December are very different so they have a low similarity value"
   ]
  },
  {
   "cell_type": "code",
   "execution_count": 8,
   "metadata": {},
   "outputs": [],
   "source": [
    "\n",
    "simFunction = cbrkit.sim.attribute_value(\n",
    "    attributes= {\n",
    "        \"Month\": utils.nominal_range_similarity(months)\n",
    "    },\n",
    "    aggregator=cbrkit.sim.aggregator(pooling=\"mean\")\n",
    ")"
   ]
  },
  {
   "cell_type": "code",
   "execution_count": 9,
   "metadata": {},
   "outputs": [],
   "source": [
    "similarityData = utils.compute_similarity_data(casebase, simFunction, idAttribute=\"caseId\")"
   ]
  },
  {
   "cell_type": "code",
   "execution_count": 10,
   "metadata": {},
   "outputs": [],
   "source": [
    "# Wrap with similarity description\n",
    "similarityDataComplete = {\n",
    "    \"similarityDescription\": {\n",
    "    \"globalSim\": {\n",
    "      \"simFunction\": \"Weighted average\"\n",
    "    },\n",
    "    \"localSim\": {\n",
    "        \"Month\": {\n",
    "          \"simFunction\": \"NominalRangeSimilarity\",\n",
    "          \"weight\": 1.0,\n",
    "          \"description\": \"Similarity between months in range (January...December)\"\n",
    "        },\n",
    "    }\n",
    "  }\n",
    "}\n",
    "similarityDataComplete[\"similarities\"] = similarityData"
   ]
  },
  {
   "cell_type": "code",
   "execution_count": 11,
   "metadata": {},
   "outputs": [],
   "source": [
    "utils.exportToJson(similarityDataComplete, \"month1.json\")"
   ]
  },
  {
   "cell_type": "markdown",
   "metadata": {},
   "source": [
    "Now, we create a similarity data file with a function that uses the Month attribute and the similarity function **does** take into account the cyclical nature of months. For example, with this function, January and December are very similar so they have a high similarity value"
   ]
  },
  {
   "cell_type": "code",
   "execution_count": 12,
   "metadata": {},
   "outputs": [],
   "source": [
    "simFunction = cbrkit.sim.attribute_value(\n",
    "    attributes= {\n",
    "        \"Month\": utils.circular_range_similarity(months)\n",
    "    },\n",
    "    aggregator=cbrkit.sim.aggregator(pooling=\"mean\")\n",
    ")"
   ]
  },
  {
   "cell_type": "code",
   "execution_count": 13,
   "metadata": {},
   "outputs": [],
   "source": [
    "similarityData = utils.compute_similarity_data(casebase, simFunction, idAttribute=\"caseId\")"
   ]
  },
  {
   "cell_type": "code",
   "execution_count": 14,
   "metadata": {},
   "outputs": [],
   "source": [
    "# Wrap with similarity description\n",
    "similarityDataComplete = {\n",
    "    \"similarityDescription\": {\n",
    "    \"globalSim\": {\n",
    "      \"simFunction\": \"Weighted average\"\n",
    "    },\n",
    "    \"localSim\": {\n",
    "        \"Month\": {\n",
    "          \"simFunction\": \"CircularRangeSimilarity\",\n",
    "          \"weight\": 1.0,\n",
    "          \"description\": \"Similarity between months in range (January...December)\"\n",
    "        },\n",
    "    }\n",
    "  }\n",
    "}\n",
    "similarityDataComplete[\"similarities\"] = similarityData"
   ]
  },
  {
   "cell_type": "code",
   "execution_count": 15,
   "metadata": {},
   "outputs": [],
   "source": [
    "utils.exportToJson(similarityDataComplete, \"month2.json\")"
   ]
  },
  {
   "cell_type": "code",
   "execution_count": null,
   "metadata": {},
   "outputs": [],
   "source": []
  }
 ],
 "metadata": {
  "kernelspec": {
   "display_name": ".venv",
   "language": "python",
   "name": "python3"
  },
  "language_info": {
   "codemirror_mode": {
    "name": "ipython",
    "version": 3
   },
   "file_extension": ".py",
   "mimetype": "text/x-python",
   "name": "python",
   "nbconvert_exporter": "python",
   "pygments_lexer": "ipython3",
   "version": "3.12.3"
  }
 },
 "nbformat": 4,
 "nbformat_minor": 2
}
