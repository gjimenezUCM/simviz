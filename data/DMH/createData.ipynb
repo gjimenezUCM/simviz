{
 "cells": [
  {
   "cell_type": "code",
   "execution_count": 1,
   "metadata": {},
   "outputs": [],
   "source": [
    "import os\n",
    "import sys\n",
    "\n",
    "# Importing utils file in a notebook requires to add the directory in the \n",
    "# sys path before importing it.\n",
    "utilsModulePath = os.path.abspath(\"../utils\")\n",
    "if (utilsModulePath not in sys.path):\n",
    "    sys.path.append(utilsModulePath)\n",
    "# Now we can import utils\n",
    "import utils"
   ]
  },
  {
   "cell_type": "markdown",
   "metadata": {},
   "source": [
    "# DMH artwork\n",
    "\n",
    "A set of N artworks from Design Museum Helsinki. The dataset was created in the contexto of the [SPICE project](https://spice-h2020.eu/)"
   ]
  },
  {
   "cell_type": "code",
   "execution_count": 2,
   "metadata": {},
   "outputs": [],
   "source": [
    "import json\n",
    "# Opening JSON file\n",
    "with open('./items.json') as f:\n",
    "    dataFile = json.load(f)\n",
    "data = dataFile[\"data\"]"
   ]
  },
  {
   "cell_type": "code",
   "execution_count": 3,
   "metadata": {},
   "outputs": [],
   "source": [
    "import cbrkit\n",
    "casebase=dict(enumerate(data))"
   ]
  },
  {
   "cell_type": "markdown",
   "metadata": {},
   "source": [
    "## Color + author (0.5 - 0.5)"
   ]
  },
  {
   "cell_type": "code",
   "execution_count": 4,
   "metadata": {},
   "outputs": [],
   "source": [
    "simFunction = cbrkit.sim.attribute_value(\n",
    "    attributes={\n",
    "        \"ColourRGB\": utils.list_similarity(utils.color_similarity(),max),\n",
    "        \"author\": cbrkit.sim.generic.equality()\n",
    "    },\n",
    "    aggregator=cbrkit.sim.aggregator(pooling=\"mean\"),\n",
    ")"
   ]
  },
  {
   "cell_type": "code",
   "execution_count": 5,
   "metadata": {},
   "outputs": [],
   "source": [
    "similarityData = utils.compute_similarity_data(casebase, simFunction,idAttribute = \"id\")"
   ]
  },
  {
   "cell_type": "code",
   "execution_count": 6,
   "metadata": {},
   "outputs": [],
   "source": [
    "# Wrap with similarity description\n",
    "similarityDataComplete = {\n",
    "    \"similarityDescription\": {\n",
    "    \"globalSim\": {\n",
    "      \"simFunction\": \"Weighted average\"\n",
    "    },\n",
    "    \"localSim\": {\n",
    "      \"Colour\": {\n",
    "        \"simFunction\": \"max(delta_e2000)\",\n",
    "        \"weight\": 0.5,\n",
    "        \"description\": \"Maximum similarity similarity when comparing two sets of colors. Similarity between every pair of colors is computed using [Delta E 2000 color difference function](http://www.colorwiki.com/wiki/Delta_E:_The_Color_Difference#dE2000), which is a standard measurement that quantifies the difference between two colors that appear on a screen\"\n",
    "      },\n",
    "      \"author\": {\n",
    "        \"simFunction\": \"equals\",\n",
    "        \"weight\": 0.5,\n",
    "        \"description\": \"String equality\"\n",
    "      }\n",
    "    }\n",
    "  }\n",
    "}\n",
    "similarityDataComplete[\"similarities\"] = similarityData"
   ]
  },
  {
   "cell_type": "code",
   "execution_count": 7,
   "metadata": {},
   "outputs": [],
   "source": [
    "utils.exportToJson(similarityDataComplete, \"Author50Color50.json\")"
   ]
  },
  {
   "cell_type": "markdown",
   "metadata": {},
   "source": [
    "## Color + author (0.8 - 0.2)"
   ]
  },
  {
   "cell_type": "code",
   "execution_count": 8,
   "metadata": {},
   "outputs": [],
   "source": [
    "\n",
    "simFunction = cbrkit.sim.attribute_value(\n",
    "    attributes={\n",
    "        \"ColourRGB\": utils.list_similarity(utils.color_similarity(),max),\n",
    "        \"author\": cbrkit.sim.generic.equality()\n",
    "    },\n",
    "    aggregator=cbrkit.sim.aggregator(pooling=\"mean\", pooling_weights=dict(Colour=0.8, author=0.2)),\n",
    ")"
   ]
  },
  {
   "cell_type": "code",
   "execution_count": 9,
   "metadata": {},
   "outputs": [],
   "source": [
    "similarityData = utils.compute_similarity_data(casebase, simFunction,idAttribute = \"id\")"
   ]
  },
  {
   "cell_type": "code",
   "execution_count": 10,
   "metadata": {},
   "outputs": [],
   "source": [
    "# Wrap with similarity description\n",
    "similarityDataComplete = {\n",
    "    \"similarityDescription\": {\n",
    "    \"globalSim\": {\n",
    "      \"simFunction\": \"Weighted average\"\n",
    "    },\n",
    "    \"localSim\": {\n",
    "      \"Colour\": {\n",
    "        \"simFunction\": \"max(delta_e2000)\",\n",
    "        \"weight\": 0.8,\n",
    "        \"description\": \"Maximum similarity similarity when comparing two sets of colors. Similarity between every pair of colors is computed using [Delta E 2000 color difference function](http://www.colorwiki.com/wiki/Delta_E:_The_Color_Difference#dE2000), which is a standard measurement that quantifies the difference between two colors that appear on a screen\"\n",
    "      },\n",
    "      \"author\": {\n",
    "        \"simFunction\": \"equals\",\n",
    "        \"weight\": 0.2,\n",
    "        \"description\": \"String equality\"\n",
    "      }\n",
    "    }\n",
    "  }\n",
    "}\n",
    "similarityDataComplete[\"similarities\"] = similarityData"
   ]
  },
  {
   "cell_type": "code",
   "execution_count": 11,
   "metadata": {},
   "outputs": [],
   "source": [
    "utils.exportToJson(similarityDataComplete, \"Author80Color20.json\")"
   ]
  },
  {
   "cell_type": "markdown",
   "metadata": {},
   "source": [
    "## max(Color)\n",
    "\n",
    "The similarity is the maximum color similarity between colors in artworks"
   ]
  },
  {
   "cell_type": "code",
   "execution_count": 12,
   "metadata": {},
   "outputs": [],
   "source": [
    "simFunction = cbrkit.sim.attribute_value(\n",
    "    attributes={\n",
    "        \"ColourRGB\": utils.list_similarity(utils.color_similarity(),max)\n",
    "    },\n",
    "    aggregator=cbrkit.sim.aggregator(pooling=\"mean\")\n",
    ")"
   ]
  },
  {
   "cell_type": "code",
   "execution_count": 13,
   "metadata": {},
   "outputs": [],
   "source": [
    "similarityData = utils.compute_similarity_data(casebase, simFunction,idAttribute = \"id\")"
   ]
  },
  {
   "cell_type": "code",
   "execution_count": 14,
   "metadata": {},
   "outputs": [],
   "source": [
    "# Wrap with similarity description\n",
    "similarityDataComplete = {\n",
    "    \"similarityDescription\": {\n",
    "    \"globalSim\": {\n",
    "      \"simFunction\": \"Weighted average\"\n",
    "    },\n",
    "    \"localSim\": {\n",
    "      \"Colour\": {\n",
    "        \"simFunction\": \"max(delta_e2000)\",\n",
    "        \"weight\": 1.0,\n",
    "        \"description\": \"Maximum similarity value when comparing two sets of colors. Similarity between every pair of colors is computed using [Delta E 2000 color difference function](http://www.colorwiki.com/wiki/Delta_E:_The_Color_Difference#dE2000), which is a standard measurement that quantifies the difference between two colors that appear on a screen\"\n",
    "      }\n",
    "    }\n",
    "  }\n",
    "}\n",
    "similarityDataComplete[\"similarities\"] = similarityData"
   ]
  },
  {
   "cell_type": "code",
   "execution_count": 15,
   "metadata": {},
   "outputs": [],
   "source": [
    "utils.exportToJson(similarityDataComplete, \"MaxColor.json\")"
   ]
  },
  {
   "cell_type": "markdown",
   "metadata": {},
   "source": [
    "## avg(Color)\n",
    "\n",
    "The similarity is the average color similarity between colors in artworks"
   ]
  },
  {
   "cell_type": "code",
   "execution_count": 16,
   "metadata": {},
   "outputs": [],
   "source": [
    "import numpy as np\n",
    "simFunction = cbrkit.sim.attribute_value(\n",
    "    attributes={\n",
    "        \"ColourRGB\": utils.list_similarity(utils.color_similarity(),np.average),\n",
    "    },\n",
    "    aggregator=cbrkit.sim.aggregator(pooling=\"mean\"),\n",
    ")"
   ]
  },
  {
   "cell_type": "code",
   "execution_count": 17,
   "metadata": {},
   "outputs": [],
   "source": [
    "similarityData = utils.compute_similarity_data(casebase, simFunction,idAttribute = \"id\")"
   ]
  },
  {
   "cell_type": "code",
   "execution_count": 18,
   "metadata": {},
   "outputs": [],
   "source": [
    "# Wrap with similarity description\n",
    "similarityDataComplete = {\n",
    "    \"similarityDescription\": {\n",
    "    \"globalSim\": {\n",
    "      \"simFunction\": \"Weighted average\"\n",
    "    },\n",
    "    \"localSim\": {\n",
    "      \"Colour\": {\n",
    "        \"simFunction\": \"avg(delta_e2000)\",\n",
    "        \"weight\": 1.0,\n",
    "        \"description\": \"Average value of the maximum similarity between pairs of colors. Pairs are created using the shortest color list and the colors in the other list.\\nSimilarity between every pair of colors is computed using [Delta E 2000 color difference function](http://www.colorwiki.com/wiki/Delta_E:_The_Color_Difference#dE2000), which is a standard measurement that quantifies the difference between two colors that appear on a screen\"\n",
    "      }\n",
    "    }\n",
    "  }\n",
    "}\n",
    "similarityDataComplete[\"similarities\"] = similarityData"
   ]
  },
  {
   "cell_type": "code",
   "execution_count": 19,
   "metadata": {},
   "outputs": [],
   "source": [
    "utils.exportToJson(similarityDataComplete, \"AvgColor.json\")"
   ]
  },
  {
   "cell_type": "markdown",
   "metadata": {},
   "source": [
    "## range(decades)\n",
    "\n",
    "The similarity is computed using the year, according to the similarity between the decades that the year belong to"
   ]
  },
  {
   "cell_type": "code",
   "execution_count": 20,
   "metadata": {},
   "outputs": [],
   "source": [
    "years = [item[\"year\"] for item in data if item[\"year\"] is not None]\n",
    "\n",
    "simFunction = cbrkit.sim.attribute_value(\n",
    "    attributes={\n",
    "        \"year\": utils.decade_similarity(min(years), max(years))\n",
    "    },\n",
    "    aggregator=cbrkit.sim.aggregator(pooling=\"mean\"),\n",
    ")"
   ]
  },
  {
   "cell_type": "code",
   "execution_count": 21,
   "metadata": {},
   "outputs": [],
   "source": [
    "similarityData = utils.compute_similarity_data(casebase, simFunction,idAttribute = \"id\")"
   ]
  },
  {
   "cell_type": "code",
   "execution_count": 22,
   "metadata": {},
   "outputs": [],
   "source": [
    "# Wrap with similarity description\n",
    "similarityDataComplete = {\n",
    "    \"similarityDescription\": {\n",
    "    \"globalSim\": {\n",
    "      \"simFunction\": \"Weighted average\"\n",
    "    },\n",
    "    \"localSim\": {\n",
    "      \"Colour\": {\n",
    "        \"simFunction\": \"avg(delta_e2000)\",\n",
    "        \"weight\": 1.0,\n",
    "        \"description\": f'Similarity based on the _Decade_ and normalized in the range of decades for the dataset.\\n The _Decade_ is computed using the year. A decade starts in \"1\" and finishes  in \"0\" (e.g 1950 belongs to the 40s)'\n",
    "      }\n",
    "    }\n",
    "  }\n",
    "}\n",
    "similarityDataComplete[\"similarities\"] = similarityData"
   ]
  },
  {
   "cell_type": "code",
   "execution_count": 23,
   "metadata": {},
   "outputs": [],
   "source": [
    "utils.exportToJson(similarityDataComplete, \"Decades.json\")"
   ]
  }
 ],
 "metadata": {
  "kernelspec": {
   "display_name": ".venv",
   "language": "python",
   "name": "python3"
  },
  "language_info": {
   "codemirror_mode": {
    "name": "ipython",
    "version": 3
   },
   "file_extension": ".py",
   "mimetype": "text/x-python",
   "name": "python",
   "nbconvert_exporter": "python",
   "pygments_lexer": "ipython3",
   "version": "3.12.3"
  }
 },
 "nbformat": 4,
 "nbformat_minor": 2
}
