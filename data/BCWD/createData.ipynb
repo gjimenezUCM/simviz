{
 "cells": [
  {
   "cell_type": "code",
   "execution_count": 8,
   "metadata": {},
   "outputs": [],
   "source": [
    "import os\n",
    "import sys\n",
    "\n",
    "# Importing utils file in a notebook requires to add the directory in the \n",
    "# sys path before importing it.\n",
    "utilsModulePath = os.path.abspath(\"../utils\")\n",
    "if (utilsModulePath not in sys.path):\n",
    "    sys.path.append(utilsModulePath)\n",
    "# Now we can import utils\n",
    "import utils"
   ]
  },
  {
   "cell_type": "markdown",
   "metadata": {},
   "source": [
    "# BCWD\n",
    "\n",
    "Similarity data for the [Breast Cancer Wisconsin Data](https://archive.ics.uci.edu/dataset/15/breast+cancer+wisconsin+original). We create only a dataset where all the attributes are employed."
   ]
  },
  {
   "cell_type": "code",
   "execution_count": 9,
   "metadata": {},
   "outputs": [],
   "source": [
    "import json\n",
    "# Opening JSON file\n",
    "with open('./bcwd.json') as f:\n",
    "    dataFile = json.load(f)\n",
    "data = dataFile[\"data\"]"
   ]
  },
  {
   "cell_type": "code",
   "execution_count": 10,
   "metadata": {},
   "outputs": [],
   "source": [
    "import cbrkit\n",
    "casebase=dict(enumerate(data))"
   ]
  },
  {
   "cell_type": "code",
   "execution_count": 13,
   "metadata": {},
   "outputs": [],
   "source": [
    "columnNames = [\n",
    "\"ClumpThickness\",\n",
    "\"UniformityCellSize\",\n",
    "\"UniformityCellShape\",\n",
    "\"MarginalAdhesion\",\n",
    "\"SingleEpithelialCellSize\",\n",
    "\"BareNuclei\",\n",
    "\"BlandChromatin\",\n",
    "\"NormalNucleoli\",\n",
    "\"Mitoses\"]\n",
    "\n",
    "attributes={ att: cbrkit.sim.numbers.linear_interval(1,14) for att in columnNames }"
   ]
  },
  {
   "cell_type": "code",
   "execution_count": 15,
   "metadata": {},
   "outputs": [],
   "source": [
    "simFunction = cbrkit.sim.attribute_value(\n",
    "    attributes=attributes,\n",
    "    aggregator=cbrkit.sim.aggregator(pooling=\"mean\")\n",
    ")"
   ]
  },
  {
   "cell_type": "code",
   "execution_count": 16,
   "metadata": {},
   "outputs": [],
   "source": [
    "similarityData = utils.compute_similarity_data(casebase, simFunction)"
   ]
  },
  {
   "cell_type": "code",
   "execution_count": 17,
   "metadata": {},
   "outputs": [
    {
     "data": {
      "text/plain": [
       "{'ClumpThickness': {'simFunction': 'RangeSimilarity',\n",
       "  'weight': 0.1111111111111111,\n",
       "  'description': 'Similarity normalized in range (1,14)'},\n",
       " 'UniformityCellSize': {'simFunction': 'RangeSimilarity',\n",
       "  'weight': 0.1111111111111111,\n",
       "  'description': 'Similarity normalized in range (1,14)'},\n",
       " 'UniformityCellShape': {'simFunction': 'RangeSimilarity',\n",
       "  'weight': 0.1111111111111111,\n",
       "  'description': 'Similarity normalized in range (1,14)'},\n",
       " 'MarginalAdhesion': {'simFunction': 'RangeSimilarity',\n",
       "  'weight': 0.1111111111111111,\n",
       "  'description': 'Similarity normalized in range (1,14)'},\n",
       " 'SingleEpithelialCellSize': {'simFunction': 'RangeSimilarity',\n",
       "  'weight': 0.1111111111111111,\n",
       "  'description': 'Similarity normalized in range (1,14)'},\n",
       " 'BareNuclei': {'simFunction': 'RangeSimilarity',\n",
       "  'weight': 0.1111111111111111,\n",
       "  'description': 'Similarity normalized in range (1,14)'},\n",
       " 'BlandChromatin': {'simFunction': 'RangeSimilarity',\n",
       "  'weight': 0.1111111111111111,\n",
       "  'description': 'Similarity normalized in range (1,14)'},\n",
       " 'NormalNucleoli': {'simFunction': 'RangeSimilarity',\n",
       "  'weight': 0.1111111111111111,\n",
       "  'description': 'Similarity normalized in range (1,14)'},\n",
       " 'Mitoses': {'simFunction': 'RangeSimilarity',\n",
       "  'weight': 0.1111111111111111,\n",
       "  'description': 'Similarity normalized in range (1,14)'}}"
      ]
     },
     "execution_count": 17,
     "metadata": {},
     "output_type": "execute_result"
    }
   ],
   "source": [
    "localSimDescription = {}\n",
    "value = dict(simFunction = \"RangeSimilarity\", weight=1/len(columnNames), description= \"Similarity normalized in range (1,14)\")\n",
    "for att in columnNames:\n",
    "    localSimDescription[att]=value\n",
    "\n",
    "# Wrap with similarity description\n",
    "similarityDataComplete = {\n",
    "    \"similarityDescription\": {\n",
    "        \"globalSim\": {\n",
    "            \"simFunction\": \"Weighted average\"\n",
    "        },\n",
    "        \"localSim\": localSimDescription\n",
    "    }\n",
    "}\n",
    "similarityDataComplete[\"similarities\"] = similarityData"
   ]
  },
  {
   "cell_type": "code",
   "execution_count": 10,
   "metadata": {},
   "outputs": [],
   "source": [
    "utils.exportToJson(similarityDataComplete, \"AllAttributes2.json\")"
   ]
  }
 ],
 "metadata": {
  "kernelspec": {
   "display_name": ".venv",
   "language": "python",
   "name": "python3"
  },
  "language_info": {
   "codemirror_mode": {
    "name": "ipython",
    "version": 3
   },
   "file_extension": ".py",
   "mimetype": "text/x-python",
   "name": "python",
   "nbconvert_exporter": "python",
   "pygments_lexer": "ipython3",
   "version": "3.12.3"
  }
 },
 "nbformat": 4,
 "nbformat_minor": 2
}
