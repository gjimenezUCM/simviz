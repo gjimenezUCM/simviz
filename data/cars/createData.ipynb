{
 "cells": [
  {
   "cell_type": "code",
   "execution_count": 2,
   "metadata": {},
   "outputs": [],
   "source": [
    "import os\n",
    "import sys\n",
    "\n",
    "# Importing utils file in a notebook requires to add the directory in the \n",
    "# sys path before importing it.\n",
    "utilsModulePath = os.path.abspath(\"../utils\")\n",
    "if (utilsModulePath not in sys.path):\n",
    "    sys.path.append(utilsModulePath)\n",
    "# Now we can import utils\n",
    "import utils"
   ]
  },
  {
   "cell_type": "markdown",
   "metadata": {},
   "source": [
    "# Cars\n",
    "\n",
    "1k sample of [Used cars dataset](https://www.kaggle.com/datasets/austinreese/craigslist-carstrucks-data). Some attributes from the original were removed"
   ]
  },
  {
   "cell_type": "code",
   "execution_count": 4,
   "metadata": {},
   "outputs": [],
   "source": [
    "import json\n",
    "# Opening JSON file\n",
    "with open('./cars-1k.json') as f:\n",
    "    dataFile = json.load(f)\n",
    "data = dataFile[\"data\"]"
   ]
  },
  {
   "cell_type": "code",
   "execution_count": 5,
   "metadata": {},
   "outputs": [],
   "source": [
    "import cbrkit\n",
    "casebase=dict(enumerate(data))"
   ]
  },
  {
   "cell_type": "markdown",
   "metadata": {},
   "source": [
    "## Year, color, manufacturer and condition"
   ]
  },
  {
   "cell_type": "code",
   "execution_count": 6,
   "metadata": {},
   "outputs": [],
   "source": [
    "simFunction = cbrkit.sim.attribute_value(\n",
    "    attributes={\n",
    "        \"year\": cbrkit.sim.numbers.linear_interval(1950,2021),\n",
    "        \"paint_color\": utils.color_similarity(),\n",
    "        \"manufacturer\": cbrkit.sim.strings.levenshtein(),\n",
    "        \"condition\": utils.nominal_range_similarity(['excellent','new','like new','good','fair','salvage'])\n",
    "    },\n",
    "    aggregator=cbrkit.sim.aggregator(pooling=\"mean\"),\n",
    ")"
   ]
  },
  {
   "cell_type": "code",
   "execution_count": 7,
   "metadata": {},
   "outputs": [],
   "source": [
    "similarityData = utils.compute_similarity_data(casebase, simFunction)"
   ]
  },
  {
   "cell_type": "code",
   "execution_count": 8,
   "metadata": {},
   "outputs": [],
   "source": [
    "# Wrap with similarity description\n",
    "similarityDataComplete = {\n",
    "    \"similarityDescription\": {\n",
    "        \"globalSim\": {\n",
    "            \"simFunction\": \"Weighted average\"\n",
    "        },\n",
    "        \"localSim\": {\n",
    "            \"paint_color\": {\n",
    "                \"simFunction\": \"max(delta_e2000)\",\n",
    "                \"weight\": 0.25,\n",
    "                \"description\": \"Perceived similarity between colors using [Delta E 2000 color difference function](http://www.colorwiki.com/wiki/Delta_E:_The_Color_Difference#dE2000), which is a standard measurement that quantifies the difference between two colors that appear on a screen\"\n",
    "            },\n",
    "            \"manufacturer\": {\n",
    "                \"simFunction\": \"Levensthein\",\n",
    "                \"weight\": 0.25,\n",
    "                \"description\": \"String equality using Levensthein\"\n",
    "            },\n",
    "            \"year\": {\n",
    "                \"simFunction\": \"RangeSimilarity\",\n",
    "                \"weight\": 0.25,\n",
    "                \"description\": \"Similarity normalized in range (1950, 2021)\"\n",
    "            },\n",
    "            \"condition\": {\n",
    "                \"simFunction\": \"NominalRangeSimilarity\",\n",
    "                \"weight\": 0.25,\n",
    "                \"description\": \"Similarity in an ordered cualitative range (excellent...salvage)\"\n",
    "            }\n",
    "        }\n",
    "    }\n",
    "}\n",
    "similarityDataComplete[\"similarities\"] = similarityData"
   ]
  },
  {
   "cell_type": "code",
   "execution_count": 10,
   "metadata": {},
   "outputs": [],
   "source": [
    "utils.exportToJson(similarityDataComplete, \"cars_similarity.json\")"
   ]
  }
 ],
 "metadata": {
  "kernelspec": {
   "display_name": ".venv",
   "language": "python",
   "name": "python3"
  },
  "language_info": {
   "codemirror_mode": {
    "name": "ipython",
    "version": 3
   },
   "file_extension": ".py",
   "mimetype": "text/x-python",
   "name": "python",
   "nbconvert_exporter": "python",
   "pygments_lexer": "ipython3",
   "version": "3.12.3"
  }
 },
 "nbformat": 4,
 "nbformat_minor": 2
}
