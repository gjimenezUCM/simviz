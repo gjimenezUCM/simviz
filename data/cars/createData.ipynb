{
 "cells": [
  {
   "cell_type": "code",
   "execution_count": 1,
   "metadata": {},
   "outputs": [],
   "source": [
    "import os\n",
    "import sys\n",
    "\n",
    "# Importing utils file in a notebook requires to add the directory in the \n",
    "# sys path before importing it.\n",
    "utilsModulePath = os.path.abspath(\"../utils\")\n",
    "if (utilsModulePath not in sys.path):\n",
    "    sys.path.append(utilsModulePath)\n",
    "# Now we can import utils\n",
    "import utils"
   ]
  },
  {
   "cell_type": "markdown",
   "metadata": {},
   "source": [
    "# Cars\n",
    "\n",
    "1k sample of [Used cars dataset](https://www.kaggle.com/datasets/austinreese/craigslist-carstrucks-data). Some attributes from the original were removed"
   ]
  },
  {
   "cell_type": "code",
   "execution_count": 28,
   "metadata": {},
   "outputs": [],
   "source": [
    "import json\n",
    "# Opening JSON file\n",
    "with open('./cars-1k.json') as f:\n",
    "    dataFile = json.load(f)\n",
    "data = dataFile[\"cases\"]"
   ]
  },
  {
   "cell_type": "code",
   "execution_count": 29,
   "metadata": {},
   "outputs": [],
   "source": [
    "object_data = { case[\"id\"]: case for case in data }"
   ]
  },
  {
   "cell_type": "code",
   "execution_count": 30,
   "metadata": {},
   "outputs": [],
   "source": [
    "import cbrkit\n",
    "casebase=object_data"
   ]
  },
  {
   "cell_type": "markdown",
   "metadata": {},
   "source": [
    "# Wu-Palmer\n"
   ]
  },
  {
   "cell_type": "code",
   "execution_count": 35,
   "metadata": {},
   "outputs": [],
   "source": [
    "taxFunction = cbrkit.sim.taxonomy.build( \"./cars-taxonomy.yaml\", cbrkit.sim.taxonomy.wu_palmer(),\n",
    "        )\n",
    "simFunction = cbrkit.sim.attribute_value(\n",
    "    attributes={\n",
    "        \"manufacturer\": taxFunction\n",
    "    },\n",
    "    aggregator=cbrkit.sim.aggregator(pooling=\"mean\"),\n",
    ")\n"
   ]
  },
  {
   "cell_type": "code",
   "execution_count": 36,
   "metadata": {},
   "outputs": [],
   "source": [
    "retriever = cbrkit.retrieval.build(\n",
    "        simFunction\n",
    "    )\n",
    "result = cbrkit.retrieval.apply_queries(casebase, casebase, retriever)"
   ]
  },
  {
   "cell_type": "code",
   "execution_count": 37,
   "metadata": {},
   "outputs": [],
   "source": [
    "from cbrkit.model import Result, ResultStep\n",
    "def getSteps(self):\n",
    "    return self.steps\n",
    "def getAllSimilarityData(self):\n",
    "    data = {}\n",
    "    for query in self.queries.keys():\n",
    "        data[query] = self.queries[query].similarities\n",
    "    return data\n",
    "\n",
    "Result.getSteps = getSteps\n",
    "ResultStep.getAllSimilarityData = getAllSimilarityData\n",
    "\n",
    "steps = result.getSteps()\n",
    "simdata = steps[0].getAllSimilarityData()"
   ]
  },
  {
   "cell_type": "code",
   "execution_count": 38,
   "metadata": {},
   "outputs": [],
   "source": [
    "import orjson\n",
    "\n",
    "def default(obj):\n",
    "    if isinstance(obj, np.float64):\n",
    "        return float(obj)\n",
    "    raise TypeError\n",
    "\n",
    "simprint = orjson.dumps(dict(similarityConfiguration=result.metadata,similarityScores=simdata), default=default, option=orjson.OPT_NON_STR_KEYS)\n",
    "file_path = \"cbrkit_cars_tax_wupalmer.json\"\n",
    "with open(file_path, \"w\") as file:\n",
    "    file.write(simprint.decode(\"utf-8\"))"
   ]
  },
  {
   "cell_type": "markdown",
   "metadata": {},
   "source": [
    "## Year and manufacturer  (Equality)"
   ]
  },
  {
   "cell_type": "code",
   "execution_count": 53,
   "metadata": {},
   "outputs": [],
   "source": [
    "\n",
    "simFunction = cbrkit.sim.attribute_value(\n",
    "    attributes={\n",
    "        \"year\": cbrkit.sim.numbers.linear_interval(1950,2021),\n",
    "        \"manufacturer\":cbrkit.sim.generic.equality()\n",
    "    },\n",
    "    aggregator=cbrkit.sim.aggregator(\n",
    "        pooling=\"mean\",\n",
    "        pooling_weights= dict(year=0.8, manufacturer=0.2)),\n",
    ")\n",
    "\n"
   ]
  },
  {
   "cell_type": "code",
   "execution_count": 54,
   "metadata": {},
   "outputs": [],
   "source": [
    "retriever = cbrkit.retrieval.build(\n",
    "        simFunction\n",
    "    )\n",
    "result = cbrkit.retrieval.apply_queries(casebase, casebase, retriever)"
   ]
  },
  {
   "cell_type": "code",
   "execution_count": 55,
   "metadata": {},
   "outputs": [],
   "source": [
    "steps = result.getSteps()\n",
    "simdata = steps[0].getAllSimilarityData()"
   ]
  },
  {
   "cell_type": "code",
   "execution_count": 56,
   "metadata": {},
   "outputs": [],
   "source": [
    "import orjson\n",
    "\n",
    "def default(obj):\n",
    "    if isinstance(obj, np.float64):\n",
    "        return float(obj)\n",
    "    raise TypeError\n",
    "\n",
    "simprint = orjson.dumps(dict(similarityConfiguration=result.metadata,similarityScores=simdata), default=default, option=orjson.OPT_NON_STR_KEYS)\n",
    "file_path = \"cbrkit_year_manufacturer.json\"\n",
    "with open(file_path, \"w\") as file:\n",
    "    file.write(simprint.decode(\"utf-8\"))"
   ]
  },
  {
   "cell_type": "code",
   "execution_count": null,
   "metadata": {},
   "outputs": [],
   "source": []
  }
 ],
 "metadata": {
  "kernelspec": {
   "display_name": "simviz-cbrkit",
   "language": "python",
   "name": "python3"
  },
  "language_info": {
   "codemirror_mode": {
    "name": "ipython",
    "version": 3
   },
   "file_extension": ".py",
   "mimetype": "text/x-python",
   "name": "python",
   "nbconvert_exporter": "python",
   "pygments_lexer": "ipython3",
   "version": "3.12.9"
  }
 },
 "nbformat": 4,
 "nbformat_minor": 2
}
