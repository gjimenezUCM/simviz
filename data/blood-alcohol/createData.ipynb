{
 "cells": [
  {
   "cell_type": "code",
   "execution_count": 1,
   "metadata": {},
   "outputs": [],
   "source": [
    "import os\n",
    "import sys\n",
    "\n",
    "# Importing utils file in a notebook requires to add the directory in the \n",
    "# sys path before importing it.\n",
    "utilsModulePath = os.path.abspath(\"../utils\")\n",
    "if (utilsModulePath not in sys.path):\n",
    "    sys.path.append(utilsModulePath)\n",
    "# Now we can import utils\n",
    "import utils"
   ]
  },
  {
   "cell_type": "markdown",
   "metadata": {},
   "source": [
    "# Blood Alcohol domain\n",
    "\n",
    "Available at: <https://github.com/gateslm/Blood-Alcohol-Domain>\n",
    "\n",
    "```math\n",
    "@misc{BAC23,\n",
    "  title = {Blood Alcohol Content Domain},\n",
    "  howpublished={\\url{https://github.com/gateslm/Blood-Alcohol-Domain}}, \n",
    "  year = {2023},\n",
    "  url={https://github.com/gateslm/Blood-Alcohol-Domain}, \n",
    "  author = {Doyle, D{\\'o}nal and Cunningham, P{\\'a}draig, and Coyle, Lorcan}\n",
    "}\n",
    "```\n",
    "\n",
    "Used in: <https://link-springer-com.bucm.idm.oclc.org/chapter/10.1007/978-3-031-40177-0_10>"
   ]
  },
  {
   "cell_type": "code",
   "execution_count": 1,
   "metadata": {},
   "outputs": [],
   "source": [
    "import json\n",
    "# Opening JSON file\n",
    "with open('./blood-alcohol-domain.json') as f:\n",
    "    dataFile = json.load(f)\n",
    "data = dataFile[\"cases\"]"
   ]
  },
  {
   "cell_type": "code",
   "execution_count": 3,
   "metadata": {},
   "outputs": [],
   "source": [
    "object_data = { case[\"casename\"]: case for case in data }"
   ]
  },
  {
   "cell_type": "code",
   "execution_count": 43,
   "metadata": {},
   "outputs": [],
   "source": [
    "import cbrkit\n",
    "casebase= object_data"
   ]
  },
  {
   "cell_type": "markdown",
   "metadata": {},
   "source": [
    "## Gender, Amount consumed, meal and duration"
   ]
  },
  {
   "cell_type": "code",
   "execution_count": 44,
   "metadata": {},
   "outputs": [],
   "source": [
    "def nominal_range_similarity(listNominalValues: list):\n",
    "    \"\"\"Similarity function for a range of nominal values\n",
    "    It works like the range similarity function but using \n",
    "    value indexes\n",
    "    \"\"\"\n",
    "    min = 0\n",
    "    max = len(listNominalValues)-1\n",
    "    range = max\n",
    "    def wrapped_function(x:str, y:str):\n",
    "        if (x in listNominalValues)  and (y in listNominalValues):\n",
    "            ix = listNominalValues.index(x)\n",
    "            iy = listNominalValues.index(y)\n",
    "            normalizeX = (ix - min) / range\n",
    "            normalizeY = (iy - min) / range\n",
    "            return 1-abs(normalizeX - normalizeY)\n",
    "        else:\n",
    "            return 0.0\n",
    "    return wrapped_function"
   ]
  },
  {
   "cell_type": "code",
   "execution_count": 45,
   "metadata": {},
   "outputs": [],
   "source": [
    "simFunction = cbrkit.sim.attribute_value(\n",
    "    attributes= {\n",
    "        \"Gender\": cbrkit.sim.generic.equality(),\n",
    "        \"AmountConsumed\": cbrkit.sim.numbers.linear_interval(1,14),\n",
    "        \"Meal\": nominal_range_similarity (['none', 'snack', 'full']),\n",
    "        \"Duration\": cbrkit.sim.numbers.linear_interval(30,240)\n",
    "    },\n",
    "    aggregator=cbrkit.sim.aggregator(pooling=\"mean\")\n",
    ")"
   ]
  },
  {
   "cell_type": "code",
   "execution_count": 46,
   "metadata": {},
   "outputs": [],
   "source": [
    "#similarityData = utils.compute_similarity_data(casebase, simFunction, idAttribute=\"casename\")\n",
    "retriever = cbrkit.retrieval.build(\n",
    "        simFunction\n",
    "    )\n",
    "result = cbrkit.retrieval.apply_queries(casebase, casebase, retriever)"
   ]
  },
  {
   "cell_type": "code",
   "execution_count": 47,
   "metadata": {},
   "outputs": [],
   "source": [
    "from cbrkit.model import Result, ResultStep\n",
    "def getSteps(self):\n",
    "    return self.steps\n",
    "def getAllSimilarityData(self):\n",
    "    data = {}\n",
    "    for query in self.queries.keys():\n",
    "        data[query] = self.queries[query].similarities\n",
    "    return data\n",
    "def getQValues(self):\n",
    "    return self.queries.keys()\n",
    "\n",
    "def getSimilaritiesQ(self, Q):\n",
    "    return self.queries[Q].similarities\n",
    "\n",
    "Result.getSteps = getSteps\n",
    "ResultStep.getAllSimilarityData = getAllSimilarityData\n",
    "ResultStep.getQValues = getQValues\n",
    "ResultStep.getSimilaritiesQ = getSimilaritiesQ\n",
    "\n",
    "steps = result.getSteps()\n",
    "data = steps[0].getAllSimilarityData()"
   ]
  },
  {
   "cell_type": "code",
   "execution_count": 51,
   "metadata": {},
   "outputs": [],
   "source": [
    "import orjson\n",
    "\n",
    "def default(obj):\n",
    "    if isinstance(obj, np.float64):\n",
    "        return float(obj)\n",
    "    raise TypeError\n",
    "\n",
    "simprint = orjson.dumps(dict(similarityConfiguration=result.metadata,similarityScores=data), default=default, option=orjson.OPT_NON_STR_KEYS)\n",
    "file_path = \"cbrkit_GenderAmountMealDuration.json\"\n",
    "with open(file_path, \"w\") as file:\n",
    "    file.write(simprint.decode(\"utf-8\"))"
   ]
  },
  {
   "cell_type": "code",
   "execution_count": 30,
   "metadata": {},
   "outputs": [],
   "source": [
    "cbrkit.dumpers.file(\"casebase.json\",casebase)"
   ]
  },
  {
   "cell_type": "code",
   "execution_count": null,
   "metadata": {},
   "outputs": [],
   "source": [
    "# Wrap with similarity description\n",
    "similarityDataComplete = {\n",
    "    \"similarityConfigurationon\": {\n",
    "    \"globalSim\": {\n",
    "      \"simFunction\": \"Weighted average\"\n",
    "    },\n",
    "    \"localSim\": {\n",
    "      \"Gender\": {\n",
    "        \"simFunction\": \"equals\",\n",
    "        \"weight\": 0.25,\n",
    "        \"description\": \"String equality\"\n",
    "      },\n",
    "      \"AmountConsumed\": {\n",
    "        \"simFunction\": \"RangeSimilarity\",\n",
    "        \"weight\": 0.25,\n",
    "        \"description\": \"Similarity normalized in range (1,14)\"\n",
    "      },\n",
    "      \"Meal\": {\n",
    "        \"simFunction\": \"NominalRangeSimilarity\",\n",
    "        \"weight\": 0.25,\n",
    "        \"description\": \"Similarity in an ordered cualitative range (none, snack, full)\"\n",
    "      },\n",
    "      \"Duration\": {\n",
    "        \"simFunction\": \"RangeSimilarity\",\n",
    "        \"weight\": 0.25,\n",
    "        \"description\": \"Similarity normalized in range (30,240)\"\n",
    "      }\n",
    "    }\n",
    "  }\n",
    "}\n",
    "similarityDataComplete[\"similarityScores\"] = similarityData"
   ]
  },
  {
   "cell_type": "code",
   "execution_count": 7,
   "metadata": {},
   "outputs": [],
   "source": [
    "utils.exportToJson(similarityDataComplete, \"GenderAmountMealDuration.json\")"
   ]
  },
  {
   "cell_type": "markdown",
   "metadata": {},
   "source": [
    "## Gender, Amount consumed, meal and frame size"
   ]
  },
  {
   "cell_type": "code",
   "execution_count": 8,
   "metadata": {},
   "outputs": [],
   "source": [
    "\n",
    "simFunction = cbrkit.sim.attribute_value(\n",
    "    attributes= {\n",
    "        \"Gender\": cbrkit.sim.generic.equality(),\n",
    "        \"AmountConsumed\": cbrkit.sim.numbers.linear_interval(1,14),\n",
    "        \"Meal\": utils.nominal_range_similarity (['none', 'snack', 'full']),\n",
    "        \"FrameSize\": cbrkit.sim.numbers.linear_interval(1,8)\n",
    "    },\n",
    "    aggregator=cbrkit.sim.aggregator(pooling=\"mean\")\n",
    ")"
   ]
  },
  {
   "cell_type": "code",
   "execution_count": 9,
   "metadata": {},
   "outputs": [],
   "source": [
    "similarityData = utils.compute_similarity_data(casebase, simFunction, idAttribute=\"casename\")"
   ]
  },
  {
   "cell_type": "code",
   "execution_count": null,
   "metadata": {},
   "outputs": [],
   "source": [
    "# Wrap with similarity description\n",
    "similarityDataComplete = {\n",
    "    \"similarityConfigurationon\": {\n",
    "    \"globalSim\": {\n",
    "      \"simFunction\": \"Weighted average\"\n",
    "    },\n",
    "    \"localSim\": {\n",
    "      \"Gender\": {\n",
    "        \"simFunction\": \"equals\",\n",
    "        \"weight\": 0.25,\n",
    "        \"description\": \"String equality\"\n",
    "      },\n",
    "      \"AmountConsumed\": {\n",
    "        \"simFunction\": \"RangeSimilarity\",\n",
    "        \"weight\": 0.25,\n",
    "        \"description\": \"Similarity normalized in range (1,14)\"\n",
    "      },\n",
    "      \"Meal\": {\n",
    "        \"simFunction\": \"NominalRangeSimilarity\",\n",
    "        \"weight\": 0.25,\n",
    "        \"description\": \"Similarity in an ordered cualitative range (none, snack, full)\"\n",
    "      },\n",
    "      \"FrameSize\": {\n",
    "        \"simFunction\": \"RangeSimilarity\",\n",
    "        \"weight\": 0.25,\n",
    "        \"description\": \"Similarity normalized in range (1,8)\"\n",
    "      }\n",
    "    }\n",
    "  }\n",
    "}\n",
    "similarityDataComplete[\"similarityScores\"] = similarityData"
   ]
  },
  {
   "cell_type": "code",
   "execution_count": 11,
   "metadata": {},
   "outputs": [],
   "source": [
    "utils.exportToJson(similarityDataComplete, \"GenderAmountMealFrameSize.json\")"
   ]
  },
  {
   "cell_type": "markdown",
   "metadata": {},
   "source": [
    "## Amount consumed, meal and frame size"
   ]
  },
  {
   "cell_type": "code",
   "execution_count": 12,
   "metadata": {},
   "outputs": [],
   "source": [
    "simFunction = cbrkit.sim.attribute_value(\n",
    "    attributes= {\n",
    "        \"AmountConsumed\": cbrkit.sim.numbers.linear_interval(1,14),\n",
    "        \"Meal\": utils.nominal_range_similarity (['none', 'snack', 'full']),\n",
    "        \"FrameSize\": cbrkit.sim.numbers.linear_interval(1,8)\n",
    "    },\n",
    "    aggregator=cbrkit.sim.aggregator(pooling=\"mean\")\n",
    ")"
   ]
  },
  {
   "cell_type": "code",
   "execution_count": 13,
   "metadata": {},
   "outputs": [],
   "source": [
    "similarityData = utils.compute_similarity_data(casebase, simFunction, idAttribute=\"casename\")"
   ]
  },
  {
   "cell_type": "code",
   "execution_count": null,
   "metadata": {},
   "outputs": [],
   "source": [
    "# Wrap with similarity description\n",
    "similarityDataComplete = {\n",
    "    \"similarityConfigurationon\": {\n",
    "    \"globalSim\": {\n",
    "      \"simFunction\": \"Weighted average\"\n",
    "    },\n",
    "    \"localSim\": {\n",
    "      \"AmountConsumed\": {\n",
    "        \"simFunction\": \"RangeSimilarity\",\n",
    "        \"weight\": 0.25,\n",
    "        \"description\": \"Similarity normalized in range (1,14)\"\n",
    "      },\n",
    "      \"Meal\": {\n",
    "        \"simFunction\": \"NominalRangeSimilarity\",\n",
    "        \"weight\": 0.25,\n",
    "        \"description\": \"Similarity in an ordered cualitative range (none, snack, full)\"\n",
    "      },\n",
    "      \"FrameSize\": {\n",
    "        \"simFunction\": \"RangeSimilarity\",\n",
    "        \"weight\": 0.25,\n",
    "        \"description\": \"Similarity normalized in range (1,8)\"\n",
    "      }\n",
    "    }\n",
    "  }\n",
    "}\n",
    "similarityDataComplete[\"similarityScores\"] = similarityData"
   ]
  },
  {
   "cell_type": "code",
   "execution_count": 15,
   "metadata": {},
   "outputs": [],
   "source": [
    "utils.exportToJson(similarityDataComplete, \"AmountMealFrameSize.json\")"
   ]
  }
 ],
 "metadata": {
  "kernelspec": {
   "display_name": "simviz-cbrkit",
   "language": "python",
   "name": "python3"
  },
  "language_info": {
   "codemirror_mode": {
    "name": "ipython",
    "version": 3
   },
   "file_extension": ".py",
   "mimetype": "text/x-python",
   "name": "python",
   "nbconvert_exporter": "python",
   "pygments_lexer": "ipython3",
   "version": "3.12.9"
  }
 },
 "nbformat": 4,
 "nbformat_minor": 2
}
