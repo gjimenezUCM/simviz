{
 "cells": [
  {
   "cell_type": "code",
   "execution_count": 1,
   "metadata": {},
   "outputs": [],
   "source": [
    "import os\n",
    "import sys\n",
    "\n",
    "# Importing utils file in a notebook requires to add the directory in the \n",
    "# sys path before importing it.\n",
    "utilsModulePath = os.path.abspath(\"../utils\")\n",
    "if (utilsModulePath not in sys.path):\n",
    "    sys.path.append(utilsModulePath)\n",
    "# Now we can import utils\n",
    "import utils"
   ]
  },
  {
   "cell_type": "markdown",
   "metadata": {},
   "source": [
    "# Blood Alcohol domain\n",
    "\n",
    "Available at: <https://github.com/gateslm/Blood-Alcohol-Domain>\n",
    "\n",
    "```math\n",
    "@misc{BAC23,\n",
    "  title = {Blood Alcohol Content Domain},\n",
    "  howpublished={\\url{https://github.com/gateslm/Blood-Alcohol-Domain}}, \n",
    "  year = {2023},\n",
    "  url={https://github.com/gateslm/Blood-Alcohol-Domain}, \n",
    "  author = {Doyle, D{\\'o}nal and Cunningham, P{\\'a}draig, and Coyle, Lorcan}\n",
    "}\n",
    "```\n",
    "\n",
    "Used in: <https://link-springer-com.bucm.idm.oclc.org/chapter/10.1007/978-3-031-40177-0_10>"
   ]
  },
  {
   "cell_type": "code",
   "execution_count": 2,
   "metadata": {},
   "outputs": [],
   "source": [
    "import json\n",
    "# Opening JSON file\n",
    "with open('./blood-alcohol-domain.json') as f:\n",
    "    dataFile = json.load(f)\n",
    "data = dataFile[\"data\"]"
   ]
  },
  {
   "cell_type": "code",
   "execution_count": 3,
   "metadata": {},
   "outputs": [],
   "source": [
    "import cbrkit\n",
    "casebase=dict(enumerate(data))"
   ]
  },
  {
   "cell_type": "markdown",
   "metadata": {},
   "source": [
    "## Gender, Amount consumed, meal and duration"
   ]
  },
  {
   "cell_type": "code",
   "execution_count": 4,
   "metadata": {},
   "outputs": [],
   "source": [
    "simFunction = cbrkit.sim.attribute_value(\n",
    "    attributes= {\n",
    "        \"Gender\": cbrkit.sim.generic.equality(),\n",
    "        \"AmountConsumed\": cbrkit.sim.numbers.linear_interval(1,14),\n",
    "        \"Meal\": utils.nominal_range_similarity (['none', 'snack', 'full']),\n",
    "        \"Duration\": cbrkit.sim.numbers.linear_interval(30,240)\n",
    "    },\n",
    "    aggregator=cbrkit.sim.aggregator(pooling=\"mean\")\n",
    ")"
   ]
  },
  {
   "cell_type": "code",
   "execution_count": 5,
   "metadata": {},
   "outputs": [],
   "source": [
    "similarityData = utils.compute_similarity_data(casebase, simFunction, idAttribute=\"casename\")"
   ]
  },
  {
   "cell_type": "code",
   "execution_count": null,
   "metadata": {},
   "outputs": [],
   "source": [
    "# Wrap with similarity description\n",
    "similarityDataComplete = {\n",
    "    \"similarityConfigurationon\": {\n",
    "    \"globalSim\": {\n",
    "      \"simFunction\": \"Weighted average\"\n",
    "    },\n",
    "    \"localSim\": {\n",
    "      \"Gender\": {\n",
    "        \"simFunction\": \"equals\",\n",
    "        \"weight\": 0.25,\n",
    "        \"description\": \"String equality\"\n",
    "      },\n",
    "      \"AmountConsumed\": {\n",
    "        \"simFunction\": \"RangeSimilarity\",\n",
    "        \"weight\": 0.25,\n",
    "        \"description\": \"Similarity normalized in range (1,14)\"\n",
    "      },\n",
    "      \"Meal\": {\n",
    "        \"simFunction\": \"NominalRangeSimilarity\",\n",
    "        \"weight\": 0.25,\n",
    "        \"description\": \"Similarity in an ordered cualitative range (none, snack, full)\"\n",
    "      },\n",
    "      \"Duration\": {\n",
    "        \"simFunction\": \"RangeSimilarity\",\n",
    "        \"weight\": 0.25,\n",
    "        \"description\": \"Similarity normalized in range (30,240)\"\n",
    "      }\n",
    "    }\n",
    "  }\n",
    "}\n",
    "similarityDataComplete[\"similarityScores\"] = similarityData"
   ]
  },
  {
   "cell_type": "code",
   "execution_count": 7,
   "metadata": {},
   "outputs": [],
   "source": [
    "utils.exportToJson(similarityDataComplete, \"GenderAmountMealDuration.json\")"
   ]
  },
  {
   "cell_type": "markdown",
   "metadata": {},
   "source": [
    "## Gender, Amount consumed, meal and frame size"
   ]
  },
  {
   "cell_type": "code",
   "execution_count": 8,
   "metadata": {},
   "outputs": [],
   "source": [
    "\n",
    "simFunction = cbrkit.sim.attribute_value(\n",
    "    attributes= {\n",
    "        \"Gender\": cbrkit.sim.generic.equality(),\n",
    "        \"AmountConsumed\": cbrkit.sim.numbers.linear_interval(1,14),\n",
    "        \"Meal\": utils.nominal_range_similarity (['none', 'snack', 'full']),\n",
    "        \"FrameSize\": cbrkit.sim.numbers.linear_interval(1,8)\n",
    "    },\n",
    "    aggregator=cbrkit.sim.aggregator(pooling=\"mean\")\n",
    ")"
   ]
  },
  {
   "cell_type": "code",
   "execution_count": 9,
   "metadata": {},
   "outputs": [],
   "source": [
    "similarityData = utils.compute_similarity_data(casebase, simFunction, idAttribute=\"casename\")"
   ]
  },
  {
   "cell_type": "code",
   "execution_count": null,
   "metadata": {},
   "outputs": [],
   "source": [
    "# Wrap with similarity description\n",
    "similarityDataComplete = {\n",
    "    \"similarityConfigurationon\": {\n",
    "    \"globalSim\": {\n",
    "      \"simFunction\": \"Weighted average\"\n",
    "    },\n",
    "    \"localSim\": {\n",
    "      \"Gender\": {\n",
    "        \"simFunction\": \"equals\",\n",
    "        \"weight\": 0.25,\n",
    "        \"description\": \"String equality\"\n",
    "      },\n",
    "      \"AmountConsumed\": {\n",
    "        \"simFunction\": \"RangeSimilarity\",\n",
    "        \"weight\": 0.25,\n",
    "        \"description\": \"Similarity normalized in range (1,14)\"\n",
    "      },\n",
    "      \"Meal\": {\n",
    "        \"simFunction\": \"NominalRangeSimilarity\",\n",
    "        \"weight\": 0.25,\n",
    "        \"description\": \"Similarity in an ordered cualitative range (none, snack, full)\"\n",
    "      },\n",
    "      \"FrameSize\": {\n",
    "        \"simFunction\": \"RangeSimilarity\",\n",
    "        \"weight\": 0.25,\n",
    "        \"description\": \"Similarity normalized in range (1,8)\"\n",
    "      }\n",
    "    }\n",
    "  }\n",
    "}\n",
    "similarityDataComplete[\"similarityScores\"] = similarityData"
   ]
  },
  {
   "cell_type": "code",
   "execution_count": 11,
   "metadata": {},
   "outputs": [],
   "source": [
    "utils.exportToJson(similarityDataComplete, \"GenderAmountMealFrameSize.json\")"
   ]
  },
  {
   "cell_type": "markdown",
   "metadata": {},
   "source": [
    "## Amount consumed, meal and frame size"
   ]
  },
  {
   "cell_type": "code",
   "execution_count": 12,
   "metadata": {},
   "outputs": [],
   "source": [
    "simFunction = cbrkit.sim.attribute_value(\n",
    "    attributes= {\n",
    "        \"AmountConsumed\": cbrkit.sim.numbers.linear_interval(1,14),\n",
    "        \"Meal\": utils.nominal_range_similarity (['none', 'snack', 'full']),\n",
    "        \"FrameSize\": cbrkit.sim.numbers.linear_interval(1,8)\n",
    "    },\n",
    "    aggregator=cbrkit.sim.aggregator(pooling=\"mean\")\n",
    ")"
   ]
  },
  {
   "cell_type": "code",
   "execution_count": 13,
   "metadata": {},
   "outputs": [],
   "source": [
    "similarityData = utils.compute_similarity_data(casebase, simFunction, idAttribute=\"casename\")"
   ]
  },
  {
   "cell_type": "code",
   "execution_count": null,
   "metadata": {},
   "outputs": [],
   "source": [
    "# Wrap with similarity description\n",
    "similarityDataComplete = {\n",
    "    \"similarityConfigurationon\": {\n",
    "    \"globalSim\": {\n",
    "      \"simFunction\": \"Weighted average\"\n",
    "    },\n",
    "    \"localSim\": {\n",
    "      \"AmountConsumed\": {\n",
    "        \"simFunction\": \"RangeSimilarity\",\n",
    "        \"weight\": 0.25,\n",
    "        \"description\": \"Similarity normalized in range (1,14)\"\n",
    "      },\n",
    "      \"Meal\": {\n",
    "        \"simFunction\": \"NominalRangeSimilarity\",\n",
    "        \"weight\": 0.25,\n",
    "        \"description\": \"Similarity in an ordered cualitative range (none, snack, full)\"\n",
    "      },\n",
    "      \"FrameSize\": {\n",
    "        \"simFunction\": \"RangeSimilarity\",\n",
    "        \"weight\": 0.25,\n",
    "        \"description\": \"Similarity normalized in range (1,8)\"\n",
    "      }\n",
    "    }\n",
    "  }\n",
    "}\n",
    "similarityDataComplete[\"similarityScores\"] = similarityData"
   ]
  },
  {
   "cell_type": "code",
   "execution_count": 15,
   "metadata": {},
   "outputs": [],
   "source": [
    "utils.exportToJson(similarityDataComplete, \"AmountMealFrameSize.json\")"
   ]
  }
 ],
 "metadata": {
  "kernelspec": {
   "display_name": ".venv",
   "language": "python",
   "name": "python3"
  },
  "language_info": {
   "codemirror_mode": {
    "name": "ipython",
    "version": 3
   },
   "file_extension": ".py",
   "mimetype": "text/x-python",
   "name": "python",
   "nbconvert_exporter": "python",
   "pygments_lexer": "ipython3",
   "version": "3.12.3"
  }
 },
 "nbformat": 4,
 "nbformat_minor": 2
}
